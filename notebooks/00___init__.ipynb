{
 "cells": [
  {
   "cell_type": "code",
   "execution_count": null,
   "metadata": {},
   "outputs": [],
   "source": [
    "#| default_exp __init__"
   ]
  },
  {
   "cell_type": "code",
   "execution_count": null,
   "metadata": {},
   "outputs": [],
   "source": [
    "#| export\n",
    "__all__ = None\n",
    "del __all__\n",
    "from scholarly_infrastructure.logging.nucleus import original_print, print, logger, Markdown\n",
    "from scholarly_infrastructure.logging.torch import model_rich_tree, print_model_pretty\n",
    "from scholarly_infrastructure.nucleus import MuteWarnings, ensure_array, default_on_exception, append_dict_list"
   ]
  },
  {
   "cell_type": "code",
   "execution_count": null,
   "metadata": {},
   "outputs": [],
   "source": [
    "#| export\n",
    "# from scholarly_infrastructure.logging import *\n",
    "# TODO * and del __all__\n"
   ]
  },
  {
   "cell_type": "code",
   "execution_count": null,
   "metadata": {},
   "outputs": [],
   "source": [
    "#| hide\n",
    "import nbdev; nbdev.nbdev_export()"
   ]
  }
 ],
 "metadata": {
  "kernelspec": {
   "display_name": "python3",
   "language": "python",
   "name": "python3"
  }
 },
 "nbformat": 4,
 "nbformat_minor": 2
}
