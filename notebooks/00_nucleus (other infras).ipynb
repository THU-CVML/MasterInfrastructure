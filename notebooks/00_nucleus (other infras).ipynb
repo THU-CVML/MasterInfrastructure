{
 "cells": [
  {
   "cell_type": "markdown",
   "metadata": {},
   "source": [
    "# nucleus\n",
    "\n",
    "> core functionalities of this lib"
   ]
  },
  {
   "cell_type": "code",
   "execution_count": 5,
   "metadata": {},
   "outputs": [],
   "source": [
    "#| default_exp nucleus"
   ]
  },
  {
   "cell_type": "code",
   "execution_count": 6,
   "metadata": {},
   "outputs": [
    {
     "name": "stdout",
     "output_type": "stream",
     "text": [
      "The autoreload extension is already loaded. To reload it, use:\n",
      "  %reload_ext autoreload\n"
     ]
    }
   ],
   "source": [
    "#| hide\n",
    "%load_ext autoreload\n",
    "%autoreload 2\n",
    "from nbdev.showdoc import *"
   ]
  },
  {
   "cell_type": "code",
   "execution_count": 7,
   "metadata": {},
   "outputs": [],
   "source": [
    "#| export\n",
    "import warnings\n",
    "class MuteWarnings:\n",
    "    def __enter__(self):\n",
    "        # self.warnings_show = warnings.showwarning\n",
    "        # warnings.showwarning = lambda *args, **kwargs: None\n",
    "        self.mute()\n",
    "        \n",
    "    def __exit__(self, exc_type, exc_val, exc_tb):\n",
    "        # warnings.showwarning = self.warnings_show\n",
    "        self.close()        \n",
    "        \n",
    "    def mute(self):\n",
    "        warnings.filterwarnings(\"ignore\", append=True)\n",
    "        \n",
    "    def resume(self):\n",
    "        warnings.filters.pop(0)\n",
    "        "
   ]
  },
  {
   "cell_type": "code",
   "execution_count": 8,
   "metadata": {},
   "outputs": [],
   "source": [
    "#| export\n",
    "import torch\n",
    "import numpy as np\n",
    "def ensure_array(x: torch.TensorType | np.ndarray | list):\n",
    "    if isinstance(x, torch.Tensor):\n",
    "        return x.detach().cpu().numpy()\n",
    "    elif isinstance(x, np.ndarray):\n",
    "        return x\n",
    "    else: # list\n",
    "        return np.array(x)"
   ]
  },
  {
   "cell_type": "code",
   "execution_count": 13,
   "metadata": {},
   "outputs": [],
   "source": [
    "#| export\n",
    "from scholarly_infrastructure.logging.nucleus import logger\n",
    "from decorator import decorator\n",
    "@decorator\n",
    "def default_on_exception(func, default_value=None, verbose=False, *args, **kwargs):\n",
    "    try:\n",
    "        result = func(*args, **kwargs)\n",
    "        return result\n",
    "    except Exception as e:\n",
    "        # logger.warning(f\"An exception occurred: {e}\")\n",
    "        if verbose:\n",
    "            logger.exception(e)\n",
    "        return default_value"
   ]
  },
  {
   "cell_type": "code",
   "execution_count": 10,
   "metadata": {},
   "outputs": [],
   "source": [
    "#| export\n",
    "def append_dict_list(dict, name, value):\n",
    "    dict[name] = dict.get(name, []) + [value]"
   ]
  },
  {
   "cell_type": "code",
   "execution_count": 11,
   "metadata": {},
   "outputs": [],
   "source": [
    "#| export\n",
    "# TODO 暂时无法使用 decorator实现这个; 目前尽量不要使用这个API\n",
    "def partial_with_self(method, *args, **kwargs):\n",
    "    def wrapped(self, *additional_args, **additional_kwargs):\n",
    "        # Combine provided args and kwargs with additional ones\n",
    "        all_args = args + additional_args\n",
    "        all_kwargs = kwargs | additional_kwargs\n",
    "        return method(self, *all_args, **all_kwargs)\n",
    "    return wrapped"
   ]
  },
  {
   "cell_type": "code",
   "execution_count": 14,
   "metadata": {},
   "outputs": [],
   "source": [
    "#| hide\n",
    "import nbdev; nbdev.nbdev_export()"
   ]
  }
 ],
 "metadata": {
  "kernelspec": {
   "display_name": "yuequ",
   "language": "python",
   "name": "python3"
  },
  "language_info": {
   "codemirror_mode": {
    "name": "ipython",
    "version": 3
   },
   "file_extension": ".py",
   "mimetype": "text/x-python",
   "name": "python",
   "nbconvert_exporter": "python",
   "pygments_lexer": "ipython3",
   "version": "3.10.12"
  }
 },
 "nbformat": 4,
 "nbformat_minor": 4
}
