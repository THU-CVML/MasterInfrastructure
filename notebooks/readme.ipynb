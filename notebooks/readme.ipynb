{
 "cells": [
  {
   "cell_type": "code",
   "execution_count": null,
   "metadata": {},
   "outputs": [],
   "source": [
    "#| hide\n",
    "from scholarly_infrastructure.help import *"
   ]
  },
  {
   "cell_type": "markdown",
   "metadata": {},
   "source": [
    "# NamableClassify \n",
    "# 有名分类库\n",
    "\n",
    "> "
   ]
  },
  {
   "cell_type": "markdown",
   "metadata": {},
   "source": [
    "> \"名可名，非常名。无名，天地之始; 有名，万物之母。\" —— 《道德经》\n",
    "\n",
    "> \"The names that are given to the namable, are not the enduring and unchanging nature of the namable.\n",
    "> \n",
    "> The unnamable (, which is the nature of the namable, ) is considered as the beginning of the world; \n",
    "> \n",
    "> the namable (names, in contrast), we attribute them to be the mother of (guiding us to learn and recognize) all things.\"  —— \"Dao De Jing (Classic of the Way and Virtue)\"\n",
    "\n",
    "\n",
    "> \"A thing is a thing; not what is said of that thing. \" —— \"Birdman\"\n"
   ]
  },
  {
   "cell_type": "markdown",
   "metadata": {},
   "source": [
    "In this library, we are focusing on the Image Classification task, which requires the AI model to classify images into different preset names (categories).\n",
    "\n",
    "We believe this is the beginning how we can train AI models and guide them to know the world, because as you can see since from the `ImageNet` competition, the performance of AI models has been improving significantly, with the rapid development of deep learning techniques, resulting in the advancement of artificial intelligence.\n",
    "\n",
    "That's why we named our library the `NamableClassify`, borrowing the \"Old Master\" 's philosophy."
   ]
  },
  {
   "cell_type": "code",
   "execution_count": null,
   "metadata": {},
   "outputs": [],
   "source": [
    "#| hide\n",
    "# https://zxxy.sxu.edu.cn/zxypt/zlxz1/8910d895971d42c2a8e8c819b37c6945.htm\n",
    "# http://www.xinhuanet.com/culturepro/20210805/4196bf232baa4126bc9b3a8620d10700/c.html\n",
    "# https://www.cssn.cn/zx/zgzx/202307/t20230720_5669490.shtml\n",
    "\n",
    "# \"The NAME is namable, but it is not the name we usually called. \n",
    "# The word `None`, names the beginning of the cosmos; \n",
    "# The word `Existence`, names the mother of all things.\" "
   ]
  },
  {
   "cell_type": "markdown",
   "metadata": {},
   "source": [
    "## Developer Guide"
   ]
  },
  {
   "cell_type": "markdown",
   "metadata": {},
   "source": [
    "If you are new to using `nbdev` here are some useful pointers to get you started."
   ]
  },
  {
   "cell_type": "markdown",
   "metadata": {},
   "source": [
    "### Install NamableClassify in Development mode"
   ]
  },
  {
   "cell_type": "markdown",
   "metadata": {},
   "source": [
    "```sh\n",
    "# make sure NamableClassify package is installed in development mode\n",
    "$ pip install -e .\n",
    "\n",
    "# make changes under nbs/ directory\n",
    "# ...\n",
    "\n",
    "# compile to have changes apply to NamableClassify\n",
    "$ nbdev_prepare\n",
    "```"
   ]
  },
  {
   "cell_type": "markdown",
   "metadata": {},
   "source": [
    "## Usage"
   ]
  },
  {
   "cell_type": "markdown",
   "metadata": {},
   "source": [
    "### Installation"
   ]
  },
  {
   "cell_type": "markdown",
   "metadata": {},
   "source": [
    "Install latest from the GitHub [repository][repo]:\n",
    "\n",
    "```sh\n",
    "$ pip install git+https://github.com/2catycm/NamableClassify.git\n",
    "```\n",
    "\n",
    "or from [conda][conda]\n",
    "\n",
    "```sh\n",
    "$ conda install -c 2catycm namable_classify\n",
    "```\n",
    "\n",
    "or from [pypi][pypi]\n",
    "\n",
    "\n",
    "```sh\n",
    "$ pip install namable_classify\n",
    "```\n",
    "\n",
    "\n",
    "[repo]: https://github.com/2catycm/NamableClassify\n",
    "[docs]: https://2catycm.github.io/NamableClassify/\n",
    "[pypi]: https://pypi.org/project/namable_classify/\n",
    "[conda]: https://anaconda.org/2catycm/namable_classify"
   ]
  },
  {
   "cell_type": "markdown",
   "metadata": {},
   "source": [
    "### Documentation"
   ]
  },
  {
   "cell_type": "markdown",
   "metadata": {},
   "source": [
    "Documentation can be found hosted on this GitHub [repository][repo]'s [pages][docs]. Additionally you can find package manager specific guidelines on [conda][conda] and [pypi][pypi] respectively.\n",
    "\n",
    "[repo]: https://github.com/2catycm/NamableClassify\n",
    "[docs]: https://2catycm.github.io/NamableClassify/\n",
    "[pypi]: https://pypi.org/project/namable_classify/\n",
    "[conda]: https://anaconda.org/2catycm/namable_classify"
   ]
  },
  {
   "cell_type": "markdown",
   "metadata": {},
   "source": [
    "## How to use"
   ]
  },
  {
   "cell_type": "markdown",
   "metadata": {},
   "source": [
    "Fill me in please! Don't forget code examples:"
   ]
  },
  {
   "cell_type": "code",
   "execution_count": null,
   "metadata": {},
   "outputs": [
    {
     "data": {
      "text/plain": [
       "2"
      ]
     },
     "execution_count": null,
     "metadata": {},
     "output_type": "execute_result"
    }
   ],
   "source": [
    "1+1"
   ]
  }
 ],
 "metadata": {
  "kernelspec": {
   "display_name": "python3",
   "language": "python",
   "name": "python3"
  }
 },
 "nbformat": 4,
 "nbformat_minor": 4
}
