{
 "cells": [
  {
   "cell_type": "markdown",
   "metadata": {},
   "source": [
    "# Library Information\n",
    "\n",
    "> 本库的一些信息"
   ]
  },
  {
   "cell_type": "code",
   "execution_count": null,
   "metadata": {},
   "outputs": [],
   "source": [
    "#| default_exp help"
   ]
  },
  {
   "cell_type": "code",
   "execution_count": null,
   "metadata": {},
   "outputs": [],
   "source": [
    "#| hide\n",
    "%load_ext autoreload\n",
    "%autoreload 2\n",
    "from nbdev.showdoc import *"
   ]
  },
  {
   "cell_type": "code",
   "execution_count": null,
   "metadata": {},
   "outputs": [],
   "source": [
    "#| hide\n",
    "import os\n",
    "os.environ['HF_ENDPOINT'] = \"https://hf-mirror.com\""
   ]
  },
  {
   "cell_type": "code",
   "execution_count": null,
   "metadata": {},
   "outputs": [
    {
     "ename": "ModuleNotFoundError",
     "evalue": "No module named 'scholarly_infrastructure'",
     "output_type": "error",
     "traceback": [
      "\u001b[0;31m---------------------------------------------------------------------------\u001b[0m",
      "\u001b[0;31mModuleNotFoundError\u001b[0m                       Traceback (most recent call last)",
      "Cell \u001b[0;32mIn[5], line 4\u001b[0m\n\u001b[1;32m      2\u001b[0m \u001b[38;5;28;01mfrom\u001b[39;00m \u001b[38;5;21;01mpathlib\u001b[39;00m \u001b[38;5;28;01mimport\u001b[39;00m Path\n\u001b[1;32m      3\u001b[0m \u001b[38;5;28;01mimport\u001b[39;00m \u001b[38;5;21;01minspect\u001b[39;00m\n\u001b[0;32m----> 4\u001b[0m \u001b[38;5;28;01mimport\u001b[39;00m \u001b[38;5;21;01mscholarly_infrastructure\u001b[39;00m \u001b[38;5;28;01mas\u001b[39;00m \u001b[38;5;21;01mthis_library\u001b[39;00m\n\u001b[1;32m      5\u001b[0m lib_init_path \u001b[38;5;241m=\u001b[39m Path(inspect\u001b[38;5;241m.\u001b[39mgetfile(this_library))\n\u001b[1;32m      6\u001b[0m lib_directory_path \u001b[38;5;241m=\u001b[39m lib_init_path\u001b[38;5;241m.\u001b[39mparent\n",
      "\u001b[0;31mModuleNotFoundError\u001b[0m: No module named 'scholarly_infrastructure'"
     ]
    }
   ],
   "source": [
    "#| export\n",
    "from pathlib import Path\n",
    "import inspect\n",
    "import scholarly_infrastructure as this_library\n",
    "lib_init_path = Path(inspect.getfile(this_library))\n",
    "lib_directory_path = lib_init_path.parent\n",
    "lib_repo_path = lib_directory_path.parent\n",
    "runs_path = lib_repo_path/'runs'\n",
    "runs_path.mkdir(exist_ok=True, parents=True)\n",
    "runs_figs_path = runs_path/'figs'\n",
    "runs_figs_path.mkdir(exist_ok=True, parents=True)\n",
    "data_path = lib_repo_path/'data'\n",
    "data_path.mkdir(exist_ok=True, parents=True)"
   ]
  },
  {
   "cell_type": "code",
   "execution_count": null,
   "metadata": {},
   "outputs": [],
   "source": [
    "#| export\n",
    "def combine_bilingual_pretty(primary:str, auxiliary:str)->str:\n",
    "    return f\"{primary} ({auxiliary}) \""
   ]
  },
  {
   "cell_type": "code",
   "execution_count": null,
   "metadata": {},
   "outputs": [],
   "source": [
    "#| export\n",
    "lib_name_en_us = \"Scholarly Infrastructure\" \n",
    "lib_name_zh_cn = \"大师荟萃之楼\" # 群贤毕至之厦，群英聚首之阁\n",
    "lib_name = combine_bilingual_pretty(lib_name_zh_cn, lib_name_en_us)\n",
    "\n",
    "author_name_en_us = \"THU-CVML\" \n",
    "author_name_zh_cn = \"清华大学计算机视觉与机器学习实验室\"\n",
    "github_user=\"THU-CVML\"\n",
    "github_repo=\"ScholarlyInfrastructure\"\n",
    "import_name=\"scholarly_infrastructure\" # pypi name and python import name\n",
    "\n",
    "upgrade_command_pip = f\"pip install --upgrade {import_name}\" # command to upgrade the library\n",
    "\n",
    "pretty_name=combine_bilingual_pretty(f\"{author_name_zh_cn}/{lib_name_zh_cn}\", \n",
    "                                     f\"{author_name_en_us}/{lib_name_en_us}\")\n"
   ]
  },
  {
   "cell_type": "code",
   "execution_count": null,
   "metadata": {},
   "outputs": [],
   "source": [
    "#| hide\n",
    "import nbdev; nbdev.nbdev_export()"
   ]
  }
 ],
 "metadata": {
  "kernelspec": {
   "display_name": "python3",
   "language": "python",
   "name": "python3"
  }
 },
 "nbformat": 4,
 "nbformat_minor": 4
}
